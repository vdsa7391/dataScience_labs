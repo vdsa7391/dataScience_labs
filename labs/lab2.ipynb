{
 "cells": [
  {
   "cell_type": "code",
   "execution_count": 26,
   "metadata": {},
   "outputs": [
    {
     "data": {
      "image/png": "[encoded data removed]",
      "text/plain": [
       "<Figure size 640x480 with 1 Axes>"
      ]
     },
     "metadata": {},
     "output_type": "display_data"
    }
   ],
   "source": [
    "import matplotlib.pyplot as plt\n",
    "%matplotlib inline\n",
    "from random import gauss \n",
    "\n",
    "l= [ gauss(0,1) for i in range(500)]\n",
    "plt.figure\n",
    "plt.hist(l)\n",
    "plt.title(\"gauss\")\n",
    "plt.show()\n"
   ]
  },
  {
   "cell_type": "code",
   "execution_count": 70,
   "metadata": {},
   "outputs": [
    {
     "name": "stderr",
     "output_type": "stream",
     "text": [
      "  % Total    % Received % Xferd  Average Speed   Time    Time     Time  Current\n",
      "                                 Dload  Upload   Total   Spent    Left  Speed\n",
      "\n",
      "  0     0    0     0    0     0      0      0 --:--:-- --:--:-- --:--:--     0\n",
      "  0 12.1M    0 38584    0     0  55954      0  0:03:47 --:--:--  0:03:47 56081\n",
      " 39 12.1M   39 4925k    0     0  4445k      0  0:00:02  0:00:01  0:00:01 4449k\n",
      "100 12.1M  100 12.1M    0     0  7981k      0  0:00:01  0:00:01 --:--:-- 7988k\n"
     ]
    }
   ],
   "source": [
    "!curl -o GLT_filterd.csv https://raw.githubusercontent.com/dbdmg/data-science-lab/master/datasets/GLT_filtered.csv"
   ]
  },
  {
   "cell_type": "code",
   "execution_count": 71,
   "metadata": {},
   "outputs": [
    {
     "name": "stdout",
     "output_type": "stream",
     "text": [
      "['26.704', '27.434', '', '26.14', '25.427', '24.844', '24.058000000000003', '23.576', '', '25.263']\n",
      "[26.704, 27.434, 26.787, 26.14, 25.427, 24.844, 24.058000000000003, 23.576, 24.4195, 25.263]\n"
     ]
    }
   ],
   "source": [
    "import csv \n",
    "\n",
    "db= [[],[],[],[],[],[]]\n",
    "\n",
    "with open(\"GLT_filterd.csv\") as f:\n",
    "    reader=csv.reader(f)\n",
    "    header=next(reader)\n",
    "    for rows in reader:\n",
    "        for j in range(6):\n",
    "            db[j].append(rows[j])\n",
    "print(db[1][:10])\n",
    "\n",
    "db[1]=[float(x) if x!='' else '' for x in db[1] ]\n",
    "\n",
    "print(values[:10])"
   ]
  },
  {
   "cell_type": "code",
   "execution_count": null,
   "metadata": {},
   "outputs": [],
   "source": [
    "def preceding(values, i):\n",
    "    preceding=0\n",
    "    if(values[i-1]!=''):\n",
    "        preceding=values[i-1]\n",
    "    else:\n",
    "        for j in range(i):\n",
    "            if(values[i-j]!=''):\n",
    "                preceding=values[i-j]\n",
    "                break\n",
    "    return preceding\n",
    "\n",
    "def succesive(values,i):\n",
    "     succesive=0\n",
    "     if(values[i+1]!=''):\n",
    "            succesive=values[i+1]\n",
    "     else:\n",
    "        for j in range(len(values)-i):\n",
    "            if(values[i+j]!=''):\n",
    "                succesive=values[i+j]\n",
    "                break\n",
    "     return succesive\n",
    "\n",
    "\n",
    "\n",
    "def missing_value_correction(values):\n",
    "\n",
    "    for i in range(len(values)):\n",
    "        if values[i] == '':\n",
    "            if i == 0:\n",
    "                prev_value = 0\n",
    "                next_value = succesive(values, i)\n",
    "            \n",
    "            elif i == len(values) - 1:\n",
    "                prev_value = preceding(values, i)\n",
    "                next_value = 0\n",
    "\n",
    "            else:\n",
    "                prev_value = preceding(values, i)\n",
    "                next_value = succesive(values, i)\n",
    "\n",
    "            values[i] = (prev_value + next_value) / 2  # Fill missing value\n",
    "\n",
    "   \n",
    "    print(\"withoutmissing\",values[0:20])\n",
    "    \n",
    "    \n"
   ]
  },
  {
   "cell_type": "code",
   "execution_count": null,
   "metadata": {},
   "outputs": [],
   "source": [
    "temp=[]\n",
    "cities= list(set(db[3]))\n",
    "print(cities)\n",
    "for z in range(len(cities)):\n",
    "    v= [x for k, x in enumerate(db[1]) if db[3][k]==cities[z]] \n",
    "    temp.append(v)\n",
    "    print(\"with missing value\",v[:20])\n",
    "    missing_value_correction(v)\n",
    "    i=0\n",
    "    for o ,m in enumerate(db[1]):\n",
    "        if db[3][o]==cities[z]:\n",
    "            db[1][o]=v[i]\n",
    "            i+=1;\n",
    "    print(cities[z])\n",
    "\n",
    "print(\"db\",db[1][:20])\n",
    "    "
   ]
  },
  {
   "cell_type": "code",
   "execution_count": null,
   "metadata": {},
   "outputs": [
    {
     "name": "stdout",
     "output_type": "stream",
     "text": [
      "dict_keys(['Cape Town', 'Lagos', 'Jaipur', 'Dakar', 'Aleppo', 'Baghdad', 'Dar Es Salaam', 'Guangzhou', 'Alexandria', 'Madrid', 'Paris', 'Lakhnau', 'Ho Chi Minh City', 'BogotÃ¡', 'Shanghai', 'Calcutta', 'Harare', 'Lahore', 'Kiev', 'Salvador', 'Mogadishu', 'Jiddah', 'Chengdu', 'Mexico', 'Los Angeles', 'Istanbul', 'Durban', 'Jakarta', 'SÃ£o Paulo', 'Belo Horizonte', 'Sydney', 'Toronto', 'Ankara', 'Abidjan', 'Surabaya', 'Ibadan', 'Nagoya', 'Jinan', 'Riyadh', 'Pune', 'Seoul', 'Taiyuan', 'Fortaleza', 'Nairobi', 'Tangshan', 'Kinshasa', 'Singapore', 'Santiago', 'Manila', 'Changchun', 'Kano', 'New Delhi', 'Madras', 'Dhaka', 'Wuhan', 'Chicago', 'Delhi', 'Nanjing', 'Rio De Janeiro', 'Rangoon', 'Peking', 'Karachi', 'Montreal', 'Harbin', 'Kabul', 'Tokyo', 'Cali', 'Rome', 'Chongqing', 'Bangkok', 'Mashhad', 'Xian', 'London', 'Kanpur', 'New York', 'Dalian', 'Taipei', 'Tianjin', 'Addis Abeba', 'Ahmadabad', 'Hyderabad', 'Santo Domingo', 'Lima', 'Bangalore', 'Moscow', 'Casablanca', 'Gizeh', 'Bombay', 'Nagpur', 'Faisalabad', 'Umm Durman', 'Luanda', 'Melbourne', 'Izmir', 'Cairo', 'Shenyang', 'Surat', 'BrasÃ\\xadlia', 'Saint Petersburg', 'Berlin'])\n"
     ]
    }
   ],
   "source": [
    "cityTempDict= {cities[i] : temp[i] for i in range(len(cities))}\n",
    "print(cityTempDict.keys())\n",
    "\n",
    "\n",
    "def topN(city,n):\n",
    "    \n",
    "\n",
    "\n",
    "    "
   ]
  }
 ],
 "metadata": {
  "kernelspec": {
   "display_name": "Python 3",
   "language": "python",
   "name": "python3"
  },
  "language_info": {
   "codemirror_mode": {
    "name": "ipython",
    "version": 3
   },
   "file_extension": ".py",
   "mimetype": "text/x-python",
   "name": "python",
   "nbconvert_exporter": "python",
   "pygments_lexer": "ipython3",
   "version": "3.12.4"
  }
 },
 "nbformat": 4,
 "nbformat_minor": 2
}
